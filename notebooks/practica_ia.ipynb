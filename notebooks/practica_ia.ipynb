{
 "cells": [
  {
   "cell_type": "markdown",
   "id": "ecd88d90",
   "metadata": {},
   "source": [
    "# Práctica IA: Aprendizaje Supervisado\n",
    "\n"
   ]
  },
  {
   "cell_type": "code",
   "execution_count": null,
   "id": "628943a1",
   "metadata": {},
   "outputs": [
    {
     "name": "stdout",
     "output_type": "stream",
     "text": [
      "Requirement already satisfied: numpy in c:\\users\\handel\\desktop\\proyecto_ia\\venv\\lib\\site-packages (2.2.5)\n",
      "Requirement already satisfied: pandas in c:\\users\\handel\\desktop\\proyecto_ia\\venv\\lib\\site-packages (2.2.3)\n",
      "Requirement already satisfied: scikit-learn in c:\\users\\handel\\desktop\\proyecto_ia\\venv\\lib\\site-packages (1.6.1)\n",
      "Requirement already satisfied: python-dateutil>=2.8.2 in c:\\users\\handel\\desktop\\proyecto_ia\\venv\\lib\\site-packages (from pandas) (2.9.0.post0)\n",
      "Requirement already satisfied: pytz>=2020.1 in c:\\users\\handel\\desktop\\proyecto_ia\\venv\\lib\\site-packages (from pandas) (2025.2)\n",
      "Requirement already satisfied: tzdata>=2022.7 in c:\\users\\handel\\desktop\\proyecto_ia\\venv\\lib\\site-packages (from pandas) (2025.2)\n",
      "Requirement already satisfied: scipy>=1.6.0 in c:\\users\\handel\\desktop\\proyecto_ia\\venv\\lib\\site-packages (from scikit-learn) (1.15.3)\n",
      "Requirement already satisfied: joblib>=1.2.0 in c:\\users\\handel\\desktop\\proyecto_ia\\venv\\lib\\site-packages (from scikit-learn) (1.5.0)\n",
      "Requirement already satisfied: threadpoolctl>=3.1.0 in c:\\users\\handel\\desktop\\proyecto_ia\\venv\\lib\\site-packages (from scikit-learn) (3.6.0)\n",
      "Requirement already satisfied: six>=1.5 in c:\\users\\handel\\desktop\\proyecto_ia\\venv\\lib\\site-packages (from python-dateutil>=2.8.2->pandas) (1.17.0)\n",
      "Note: you may need to restart the kernel to use updated packages.\n"
     ]
    },
    {
     "name": "stderr",
     "output_type": "stream",
     "text": [
      "\n",
      "[notice] A new release of pip is available: 24.2 -> 25.1.1\n",
      "[notice] To update, run: python.exe -m pip install --upgrade pip\n"
     ]
    }
   ],
   "source": [
    "%pip install numpy pandas scikit-learn\n"
   ]
  },
  {
   "cell_type": "code",
   "execution_count": 8,
   "id": "23299cb8",
   "metadata": {},
   "outputs": [
    {
     "name": "stdout",
     "output_type": "stream",
     "text": [
      "Directorio de trabajo actual: C:\\Users\\Handel\\Desktop\\proyecto_ia\n"
     ]
    }
   ],
   "source": [
    "import os, sys\n",
    "\n",
    "# Cambia esto por la ruta absoluta a tu proyecto\n",
    "project_root = r\"C:\\Users\\Handel\\Desktop\\proyecto_ia\"\n",
    "\n",
    "# Sitúate en la carpeta raíz del proyecto\n",
    "os.chdir(project_root)\n",
    "# Añádela al path de Python\n",
    "sys.path.insert(0, project_root)\n",
    "\n",
    "print(\"Directorio de trabajo actual:\", os.getcwd())\n"
   ]
  },
  {
   "cell_type": "code",
   "execution_count": 9,
   "id": "4cc534e9",
   "metadata": {},
   "outputs": [],
   "source": [
    "# Módulos propios\n",
    "from src.generar_dataset import generar_dataset\n",
    "from src.modelos import cargar_y_dividir, preprocesar, entrenar_modelos\n",
    "from src.evaluar_modelos import evaluar\n",
    "\n",
    "# Librerías estándar\n",
    "import pandas as pd\n"
   ]
  },
  {
   "cell_type": "code",
   "execution_count": 10,
   "id": "83d6f24b",
   "metadata": {},
   "outputs": [
    {
     "data": {
      "text/html": [
       "<div>\n",
       "<style scoped>\n",
       "    .dataframe tbody tr th:only-of-type {\n",
       "        vertical-align: middle;\n",
       "    }\n",
       "\n",
       "    .dataframe tbody tr th {\n",
       "        vertical-align: top;\n",
       "    }\n",
       "\n",
       "    .dataframe thead th {\n",
       "        text-align: right;\n",
       "    }\n",
       "</style>\n",
       "<table border=\"1\" class=\"dataframe\">\n",
       "  <thead>\n",
       "    <tr style=\"text-align: right;\">\n",
       "      <th></th>\n",
       "      <th>Horas_Estudio</th>\n",
       "      <th>Nivel_Conocimiento</th>\n",
       "      <th>Asistencia</th>\n",
       "      <th>Promedio_Tareas</th>\n",
       "      <th>Estudio_Grupo</th>\n",
       "      <th>Resultado</th>\n",
       "    </tr>\n",
       "  </thead>\n",
       "  <tbody>\n",
       "    <tr>\n",
       "      <th>0</th>\n",
       "      <td>3.745401</td>\n",
       "      <td>8</td>\n",
       "      <td>82.164411</td>\n",
       "      <td>2.129642</td>\n",
       "      <td>0</td>\n",
       "      <td>1</td>\n",
       "    </tr>\n",
       "    <tr>\n",
       "      <th>1</th>\n",
       "      <td>9.507143</td>\n",
       "      <td>4</td>\n",
       "      <td>72.912645</td>\n",
       "      <td>1.363715</td>\n",
       "      <td>0</td>\n",
       "      <td>0</td>\n",
       "    </tr>\n",
       "    <tr>\n",
       "      <th>2</th>\n",
       "      <td>7.319939</td>\n",
       "      <td>1</td>\n",
       "      <td>77.280839</td>\n",
       "      <td>0.145447</td>\n",
       "      <td>0</td>\n",
       "      <td>0</td>\n",
       "    </tr>\n",
       "    <tr>\n",
       "      <th>3</th>\n",
       "      <td>5.986585</td>\n",
       "      <td>8</td>\n",
       "      <td>97.073240</td>\n",
       "      <td>3.505876</td>\n",
       "      <td>0</td>\n",
       "      <td>1</td>\n",
       "    </tr>\n",
       "    <tr>\n",
       "      <th>4</th>\n",
       "      <td>1.560186</td>\n",
       "      <td>4</td>\n",
       "      <td>69.305132</td>\n",
       "      <td>5.899177</td>\n",
       "      <td>0</td>\n",
       "      <td>0</td>\n",
       "    </tr>\n",
       "  </tbody>\n",
       "</table>\n",
       "</div>"
      ],
      "text/plain": [
       "   Horas_Estudio  Nivel_Conocimiento  Asistencia  Promedio_Tareas  \\\n",
       "0       3.745401                   8   82.164411         2.129642   \n",
       "1       9.507143                   4   72.912645         1.363715   \n",
       "2       7.319939                   1   77.280839         0.145447   \n",
       "3       5.986585                   8   97.073240         3.505876   \n",
       "4       1.560186                   4   69.305132         5.899177   \n",
       "\n",
       "   Estudio_Grupo  Resultado  \n",
       "0              0          1  \n",
       "1              0          0  \n",
       "2              0          0  \n",
       "3              0          1  \n",
       "4              0          0  "
      ]
     },
     "execution_count": 10,
     "metadata": {},
     "output_type": "execute_result"
    }
   ],
   "source": [
    "# Genera el DataFrame sintético\n",
    "df = generar_dataset()\n",
    "# Muestra las primeras filas\n",
    "df.head()\n"
   ]
  },
  {
   "cell_type": "code",
   "execution_count": 11,
   "id": "56653f9f",
   "metadata": {},
   "outputs": [
    {
     "name": "stdout",
     "output_type": "stream",
     "text": [
      "Train: (140, 5), Test: (60, 5)\n"
     ]
    }
   ],
   "source": [
    "# Divide en entrenamiento y prueba\n",
    "X_tr_raw, X_te_raw, y_tr, y_te = cargar_y_dividir()\n",
    "\n",
    "# Escala las características\n",
    "X_tr_sc, X_te_sc, scaler = preprocesar(X_tr_raw, X_te_raw)\n",
    "\n",
    "# Organiza en diccionarios para los modelos\n",
    "X_train = {\"raw\": X_tr_raw, \"scaled\": X_tr_sc}\n",
    "X_test  = {\"raw\": X_te_raw,  \"scaled\": X_te_sc}\n",
    "\n",
    "# Comprueba tamaños\n",
    "print(f\"Train: {X_tr_raw.shape}, Test: {X_te_raw.shape}\")\n"
   ]
  },
  {
   "cell_type": "code",
   "execution_count": 12,
   "id": "3e3b4a96",
   "metadata": {},
   "outputs": [
    {
     "name": "stdout",
     "output_type": "stream",
     "text": [
      "Modelos entrenados: ['Regresion_Logistica', 'Arbol_Decision']\n"
     ]
    }
   ],
   "source": [
    "# Ajusta Regresión Logística y Árbol de Decisión\n",
    "modelos = entrenar_modelos(X_train, y_tr)\n",
    "\n",
    "# Lista los modelos entrenados\n",
    "print(\"Modelos entrenados:\", list(modelos.keys()))\n"
   ]
  },
  {
   "cell_type": "code",
   "execution_count": 13,
   "id": "7b0e2137",
   "metadata": {},
   "outputs": [
    {
     "data": {
      "text/html": [
       "<div>\n",
       "<style scoped>\n",
       "    .dataframe tbody tr th:only-of-type {\n",
       "        vertical-align: middle;\n",
       "    }\n",
       "\n",
       "    .dataframe tbody tr th {\n",
       "        vertical-align: top;\n",
       "    }\n",
       "\n",
       "    .dataframe thead th {\n",
       "        text-align: right;\n",
       "    }\n",
       "</style>\n",
       "<table border=\"1\" class=\"dataframe\">\n",
       "  <thead>\n",
       "    <tr style=\"text-align: right;\">\n",
       "      <th></th>\n",
       "      <th>Modelo</th>\n",
       "      <th>Accuracy</th>\n",
       "    </tr>\n",
       "  </thead>\n",
       "  <tbody>\n",
       "    <tr>\n",
       "      <th>0</th>\n",
       "      <td>Regresion_Logistica</td>\n",
       "      <td>0.933333</td>\n",
       "    </tr>\n",
       "    <tr>\n",
       "      <th>1</th>\n",
       "      <td>Arbol_Decision</td>\n",
       "      <td>0.950000</td>\n",
       "    </tr>\n",
       "  </tbody>\n",
       "</table>\n",
       "</div>"
      ],
      "text/plain": [
       "                Modelo  Accuracy\n",
       "0  Regresion_Logistica  0.933333\n",
       "1       Arbol_Decision  0.950000"
      ]
     },
     "execution_count": 13,
     "metadata": {},
     "output_type": "execute_result"
    }
   ],
   "source": [
    "# Evalúa sobre el conjunto de prueba\n",
    "resultados = evaluar(modelos, X_test, y_te)\n",
    "\n",
    "# Crea un DataFrame resumen\n",
    "tabla = pd.DataFrame({\n",
    "    \"Modelo\": list(resultados.keys()),\n",
    "    \"Accuracy\": [resultados[m][\"accuracy\"] for m in resultados]\n",
    "})\n",
    "\n",
    "# Muestra la tabla\n",
    "tabla\n"
   ]
  },
  {
   "cell_type": "code",
   "execution_count": 14,
   "id": "4d2632df",
   "metadata": {},
   "outputs": [
    {
     "name": "stdout",
     "output_type": "stream",
     "text": [
      "\n",
      "=== Regresion_Logistica ===\n",
      "              precision    recall  f1-score   support\n",
      "\n",
      " No Aprobado       1.00      0.90      0.95        41\n",
      "    Aprobado       0.83      1.00      0.90        19\n",
      "\n",
      "    accuracy                           0.93        60\n",
      "   macro avg       0.91      0.95      0.93        60\n",
      "weighted avg       0.94      0.93      0.93        60\n",
      "\n",
      "\n",
      "=== Arbol_Decision ===\n",
      "              precision    recall  f1-score   support\n",
      "\n",
      " No Aprobado       1.00      0.93      0.96        41\n",
      "    Aprobado       0.86      1.00      0.93        19\n",
      "\n",
      "    accuracy                           0.95        60\n",
      "   macro avg       0.93      0.96      0.94        60\n",
      "weighted avg       0.96      0.95      0.95        60\n",
      "\n"
     ]
    }
   ],
   "source": [
    "# Imprime precision/recall/f1-score para cada modelo\n",
    "for nombre, res in resultados.items():\n",
    "    print(f\"\\n=== {nombre} ===\")\n",
    "    print(res[\"report\"])\n"
   ]
  }
 ],
 "metadata": {
  "kernelspec": {
   "display_name": "venv",
   "language": "python",
   "name": "python3"
  },
  "language_info": {
   "codemirror_mode": {
    "name": "ipython",
    "version": 3
   },
   "file_extension": ".py",
   "mimetype": "text/x-python",
   "name": "python",
   "nbconvert_exporter": "python",
   "pygments_lexer": "ipython3",
   "version": "3.13.0"
  }
 },
 "nbformat": 4,
 "nbformat_minor": 5
}
